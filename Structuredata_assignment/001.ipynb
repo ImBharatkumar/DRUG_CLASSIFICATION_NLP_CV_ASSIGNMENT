{
 "cells": [
  {
   "cell_type": "markdown",
   "id": "a40034ad",
   "metadata": {},
   "source": [
    "# Problem 1\n",
    "**import libraries**"
   ]
  },
  {
   "cell_type": "code",
   "execution_count": 1,
   "id": "f53d6f0c",
   "metadata": {},
   "outputs": [],
   "source": [
    "import pandas as pd\n",
    "import numpy as np\n",
    "import matplotlib.pyplot as plt\n",
    "import seaborn as sns\n",
    "import warnings\n",
    "warnings.filterwarnings('ignore')\n",
    "from datetime import datetime, timedelta\n"
   ]
  },
  {
   "cell_type": "markdown",
   "id": "f0bb8c07",
   "metadata": {},
   "source": [
    "**loading the data**"
   ]
  },
  {
   "cell_type": "code",
   "execution_count": 2,
   "id": "c9ee028d",
   "metadata": {},
   "outputs": [],
   "source": [
    "df=pd.read_parquet(r\"C:\\Users\\Barry\\Desktop\\projects\\akaike assignment\\Structured_Data_Assignment\\Structured_Data_Assignment\\train.parquet\")"
   ]
  },
  {
   "cell_type": "code",
   "execution_count": 3,
   "id": "9df4115f",
   "metadata": {},
   "outputs": [
    {
     "data": {
      "text/html": [
       "<div>\n",
       "<style scoped>\n",
       "    .dataframe tbody tr th:only-of-type {\n",
       "        vertical-align: middle;\n",
       "    }\n",
       "\n",
       "    .dataframe tbody tr th {\n",
       "        vertical-align: top;\n",
       "    }\n",
       "\n",
       "    .dataframe thead th {\n",
       "        text-align: right;\n",
       "    }\n",
       "</style>\n",
       "<table border=\"1\" class=\"dataframe\">\n",
       "  <thead>\n",
       "    <tr style=\"text-align: right;\">\n",
       "      <th></th>\n",
       "      <th>Patient-Uid</th>\n",
       "      <th>Date</th>\n",
       "      <th>Incident</th>\n",
       "    </tr>\n",
       "  </thead>\n",
       "  <tbody>\n",
       "    <tr>\n",
       "      <th>0</th>\n",
       "      <td>a0db1e73-1c7c-11ec-ae39-16262ee38c7f</td>\n",
       "      <td>2019-03-09</td>\n",
       "      <td>PRIMARY_DIAGNOSIS</td>\n",
       "    </tr>\n",
       "    <tr>\n",
       "      <th>1</th>\n",
       "      <td>a0dc93f2-1c7c-11ec-9cd2-16262ee38c7f</td>\n",
       "      <td>2015-05-16</td>\n",
       "      <td>PRIMARY_DIAGNOSIS</td>\n",
       "    </tr>\n",
       "    <tr>\n",
       "      <th>3</th>\n",
       "      <td>a0dc94c6-1c7c-11ec-a3a0-16262ee38c7f</td>\n",
       "      <td>2018-01-30</td>\n",
       "      <td>SYMPTOM_TYPE_0</td>\n",
       "    </tr>\n",
       "    <tr>\n",
       "      <th>4</th>\n",
       "      <td>a0dc950b-1c7c-11ec-b6ec-16262ee38c7f</td>\n",
       "      <td>2015-04-22</td>\n",
       "      <td>DRUG_TYPE_0</td>\n",
       "    </tr>\n",
       "    <tr>\n",
       "      <th>8</th>\n",
       "      <td>a0dc9543-1c7c-11ec-bb63-16262ee38c7f</td>\n",
       "      <td>2016-06-18</td>\n",
       "      <td>DRUG_TYPE_1</td>\n",
       "    </tr>\n",
       "  </tbody>\n",
       "</table>\n",
       "</div>"
      ],
      "text/plain": [
       "                            Patient-Uid       Date           Incident\n",
       "0  a0db1e73-1c7c-11ec-ae39-16262ee38c7f 2019-03-09  PRIMARY_DIAGNOSIS\n",
       "1  a0dc93f2-1c7c-11ec-9cd2-16262ee38c7f 2015-05-16  PRIMARY_DIAGNOSIS\n",
       "3  a0dc94c6-1c7c-11ec-a3a0-16262ee38c7f 2018-01-30     SYMPTOM_TYPE_0\n",
       "4  a0dc950b-1c7c-11ec-b6ec-16262ee38c7f 2015-04-22        DRUG_TYPE_0\n",
       "8  a0dc9543-1c7c-11ec-bb63-16262ee38c7f 2016-06-18        DRUG_TYPE_1"
      ]
     },
     "execution_count": 3,
     "metadata": {},
     "output_type": "execute_result"
    }
   ],
   "source": [
    "df.head()"
   ]
  },
  {
   "cell_type": "code",
   "execution_count": 4,
   "id": "cd5cafe1",
   "metadata": {},
   "outputs": [
    {
     "data": {
      "text/plain": [
       "(3220868, 3)"
      ]
     },
     "execution_count": 4,
     "metadata": {},
     "output_type": "execute_result"
    }
   ],
   "source": [
    "df.shape"
   ]
  },
  {
   "cell_type": "code",
   "execution_count": 5,
   "id": "dc517d40",
   "metadata": {},
   "outputs": [
    {
     "data": {
      "text/plain": [
       "Patient-Uid    0\n",
       "Date           0\n",
       "Incident       0\n",
       "dtype: int64"
      ]
     },
     "execution_count": 5,
     "metadata": {},
     "output_type": "execute_result"
    }
   ],
   "source": [
    "# checking for null values\n",
    "df.isnull().sum()"
   ]
  },
  {
   "cell_type": "code",
   "execution_count": 6,
   "id": "5c0b6321",
   "metadata": {},
   "outputs": [
    {
     "name": "stdout",
     "output_type": "stream",
     "text": [
      "<class 'pandas.core.frame.DataFrame'>\n",
      "Int64Index: 3220868 entries, 0 to 29080911\n",
      "Data columns (total 3 columns):\n",
      " #   Column       Dtype         \n",
      "---  ------       -----         \n",
      " 0   Patient-Uid  object        \n",
      " 1   Date         datetime64[ns]\n",
      " 2   Incident     object        \n",
      "dtypes: datetime64[ns](1), object(2)\n",
      "memory usage: 98.3+ MB\n"
     ]
    }
   ],
   "source": [
    "df.info()"
   ]
  },
  {
   "cell_type": "code",
   "execution_count": 7,
   "id": "1354b0c7",
   "metadata": {},
   "outputs": [],
   "source": [
    "#converting date column to pandas datetime type\n",
    "df['Date']=pd.to_datetime(df['Date'],format='%Y-%m-%d')"
   ]
  },
  {
   "cell_type": "markdown",
   "id": "8922b2b3",
   "metadata": {},
   "source": [
    "**Create the positive set (patients who have taken \"Target Drug\")**"
   ]
  },
  {
   "cell_type": "code",
   "execution_count": 8,
   "id": "b290c776",
   "metadata": {},
   "outputs": [],
   "source": [
    "positive_set=df[df['Incident'] == 'TARGET DRUG']\n",
    "\n",
    "# Set the current date as a reference point\n",
    "current_date = positive_set.Date.max()\n",
    "\n",
    "# Calculate the cutoff date 30 days before the current date\n",
    "cutoff_date = current_date - timedelta(days=30)\n",
    "\n",
    "# Filter the data for patients who have taken \"Target Drug\" within the last 30 days\n",
    "positive_set = df[(df['Incident'] == 'TARGET DRUG') & (df['Date'] >= cutoff_date)]"
   ]
  },
  {
   "cell_type": "code",
   "execution_count": 9,
   "id": "652985b0",
   "metadata": {},
   "outputs": [
    {
     "data": {
      "text/plain": [
       "(2891, 3)"
      ]
     },
     "execution_count": 9,
     "metadata": {},
     "output_type": "execute_result"
    }
   ],
   "source": [
    "negative_set = df[df['Incident'] != 'TARGET DRUG'].sample(frac=1)[:len(positive_set)] \n",
    "negative_set.shape\n",
    "# this code will have the patients who have not taken TARGET DRUG and length same as positev_set,\n",
    "# to avoid bias and imbalnce in data"
   ]
  },
  {
   "cell_type": "code",
   "execution_count": 10,
   "id": "23d811f8",
   "metadata": {},
   "outputs": [],
   "source": [
    "# Combine the positive and negative sets\n",
    "model_data = pd.concat([positive_set, negative_set])\n",
    "\n",
    "# Sort the data by date\n",
    "model_data = model_data.sort_values(by='Date')\n",
    "\n",
    "# Create a target variable indicating whether the patient is eligible or not\n",
    "model_data['Eligible'] = np.where(model_data['Incident'] == 'TARGET DRUG', 1, 0)\n"
   ]
  },
  {
   "cell_type": "code",
   "execution_count": 11,
   "id": "dc2a25db",
   "metadata": {},
   "outputs": [
    {
     "data": {
      "text/html": [
       "<div>\n",
       "<style scoped>\n",
       "    .dataframe tbody tr th:only-of-type {\n",
       "        vertical-align: middle;\n",
       "    }\n",
       "\n",
       "    .dataframe tbody tr th {\n",
       "        vertical-align: top;\n",
       "    }\n",
       "\n",
       "    .dataframe thead th {\n",
       "        text-align: right;\n",
       "    }\n",
       "</style>\n",
       "<table border=\"1\" class=\"dataframe\">\n",
       "  <thead>\n",
       "    <tr style=\"text-align: right;\">\n",
       "      <th></th>\n",
       "      <th>Patient-Uid</th>\n",
       "      <th>Date</th>\n",
       "      <th>Incident</th>\n",
       "      <th>Eligible</th>\n",
       "    </tr>\n",
       "  </thead>\n",
       "  <tbody>\n",
       "    <tr>\n",
       "      <th>0</th>\n",
       "      <td>a0e92833-1c7c-11ec-bc7e-16262ee38c7f</td>\n",
       "      <td>2015-04-07</td>\n",
       "      <td>DRUG_TYPE_0</td>\n",
       "      <td>0</td>\n",
       "    </tr>\n",
       "    <tr>\n",
       "      <th>1</th>\n",
       "      <td>a0e4492e-1c7c-11ec-bcbd-16262ee38c7f</td>\n",
       "      <td>2015-04-07</td>\n",
       "      <td>DRUG_TYPE_8</td>\n",
       "      <td>0</td>\n",
       "    </tr>\n",
       "    <tr>\n",
       "      <th>2</th>\n",
       "      <td>a0df8c90-1c7c-11ec-b306-16262ee38c7f</td>\n",
       "      <td>2015-04-09</td>\n",
       "      <td>DRUG_TYPE_1</td>\n",
       "      <td>0</td>\n",
       "    </tr>\n",
       "    <tr>\n",
       "      <th>3</th>\n",
       "      <td>a0eba357-1c7c-11ec-9694-16262ee38c7f</td>\n",
       "      <td>2015-04-10</td>\n",
       "      <td>DRUG_TYPE_1</td>\n",
       "      <td>0</td>\n",
       "    </tr>\n",
       "    <tr>\n",
       "      <th>4</th>\n",
       "      <td>a0e36140-1c7c-11ec-85b1-16262ee38c7f</td>\n",
       "      <td>2015-04-10</td>\n",
       "      <td>DRUG_TYPE_2</td>\n",
       "      <td>0</td>\n",
       "    </tr>\n",
       "    <tr>\n",
       "      <th>...</th>\n",
       "      <td>...</td>\n",
       "      <td>...</td>\n",
       "      <td>...</td>\n",
       "      <td>...</td>\n",
       "    </tr>\n",
       "    <tr>\n",
       "      <th>5777</th>\n",
       "      <td>a0edef0d-1c7c-11ec-9dec-16262ee38c7f</td>\n",
       "      <td>2020-09-03</td>\n",
       "      <td>TARGET DRUG</td>\n",
       "      <td>1</td>\n",
       "    </tr>\n",
       "    <tr>\n",
       "      <th>5778</th>\n",
       "      <td>a0f0b5fd-1c7c-11ec-8f5d-16262ee38c7f</td>\n",
       "      <td>2020-09-03</td>\n",
       "      <td>TARGET DRUG</td>\n",
       "      <td>1</td>\n",
       "    </tr>\n",
       "    <tr>\n",
       "      <th>5779</th>\n",
       "      <td>a0ec6b35-1c7c-11ec-9be6-16262ee38c7f</td>\n",
       "      <td>2020-09-03</td>\n",
       "      <td>TARGET DRUG</td>\n",
       "      <td>1</td>\n",
       "    </tr>\n",
       "    <tr>\n",
       "      <th>5780</th>\n",
       "      <td>a0edb933-1c7c-11ec-bee6-16262ee38c7f</td>\n",
       "      <td>2020-09-03</td>\n",
       "      <td>TARGET DRUG</td>\n",
       "      <td>1</td>\n",
       "    </tr>\n",
       "    <tr>\n",
       "      <th>5781</th>\n",
       "      <td>a0edd782-1c7c-11ec-bdcb-16262ee38c7f</td>\n",
       "      <td>2020-09-03</td>\n",
       "      <td>TARGET DRUG</td>\n",
       "      <td>1</td>\n",
       "    </tr>\n",
       "  </tbody>\n",
       "</table>\n",
       "<p>5782 rows × 4 columns</p>\n",
       "</div>"
      ],
      "text/plain": [
       "                               Patient-Uid       Date     Incident  Eligible\n",
       "0     a0e92833-1c7c-11ec-bc7e-16262ee38c7f 2015-04-07  DRUG_TYPE_0         0\n",
       "1     a0e4492e-1c7c-11ec-bcbd-16262ee38c7f 2015-04-07  DRUG_TYPE_8         0\n",
       "2     a0df8c90-1c7c-11ec-b306-16262ee38c7f 2015-04-09  DRUG_TYPE_1         0\n",
       "3     a0eba357-1c7c-11ec-9694-16262ee38c7f 2015-04-10  DRUG_TYPE_1         0\n",
       "4     a0e36140-1c7c-11ec-85b1-16262ee38c7f 2015-04-10  DRUG_TYPE_2         0\n",
       "...                                    ...        ...          ...       ...\n",
       "5777  a0edef0d-1c7c-11ec-9dec-16262ee38c7f 2020-09-03  TARGET DRUG         1\n",
       "5778  a0f0b5fd-1c7c-11ec-8f5d-16262ee38c7f 2020-09-03  TARGET DRUG         1\n",
       "5779  a0ec6b35-1c7c-11ec-9be6-16262ee38c7f 2020-09-03  TARGET DRUG         1\n",
       "5780  a0edb933-1c7c-11ec-bee6-16262ee38c7f 2020-09-03  TARGET DRUG         1\n",
       "5781  a0edd782-1c7c-11ec-bdcb-16262ee38c7f 2020-09-03  TARGET DRUG         1\n",
       "\n",
       "[5782 rows x 4 columns]"
      ]
     },
     "execution_count": 11,
     "metadata": {},
     "output_type": "execute_result"
    }
   ],
   "source": [
    "model_data.reset_index(drop=True)"
   ]
  },
  {
   "cell_type": "code",
   "execution_count": 12,
   "id": "db117cde",
   "metadata": {},
   "outputs": [],
   "source": [
    "#B. Feature engineering:\n",
    "\n",
    "# Create frequency-based features\n",
    "freq_features = model_data.groupby('Patient-Uid').agg({'Incident': 'count'}).reset_index()\n",
    "freq_features.columns = ['Patient-Uid', 'Freq']\n"
   ]
  },
  {
   "cell_type": "code",
   "execution_count": 13,
   "id": "e9160bbb",
   "metadata": {},
   "outputs": [
    {
     "data": {
      "text/html": [
       "<div>\n",
       "<style scoped>\n",
       "    .dataframe tbody tr th:only-of-type {\n",
       "        vertical-align: middle;\n",
       "    }\n",
       "\n",
       "    .dataframe tbody tr th {\n",
       "        vertical-align: top;\n",
       "    }\n",
       "\n",
       "    .dataframe thead th {\n",
       "        text-align: right;\n",
       "    }\n",
       "</style>\n",
       "<table border=\"1\" class=\"dataframe\">\n",
       "  <thead>\n",
       "    <tr style=\"text-align: right;\">\n",
       "      <th></th>\n",
       "      <th>Patient-Uid</th>\n",
       "      <th>Freq</th>\n",
       "    </tr>\n",
       "  </thead>\n",
       "  <tbody>\n",
       "    <tr>\n",
       "      <th>0</th>\n",
       "      <td>a0dc950b-1c7c-11ec-b6ec-16262ee38c7f</td>\n",
       "      <td>1</td>\n",
       "    </tr>\n",
       "    <tr>\n",
       "      <th>1</th>\n",
       "      <td>a0dc9543-1c7c-11ec-bb63-16262ee38c7f</td>\n",
       "      <td>1</td>\n",
       "    </tr>\n",
       "    <tr>\n",
       "      <th>2</th>\n",
       "      <td>a0dc9c2b-1c7c-11ec-ac1e-16262ee38c7f</td>\n",
       "      <td>1</td>\n",
       "    </tr>\n",
       "  </tbody>\n",
       "</table>\n",
       "</div>"
      ],
      "text/plain": [
       "                            Patient-Uid  Freq\n",
       "0  a0dc950b-1c7c-11ec-b6ec-16262ee38c7f     1\n",
       "1  a0dc9543-1c7c-11ec-bb63-16262ee38c7f     1\n",
       "2  a0dc9c2b-1c7c-11ec-ac1e-16262ee38c7f     1"
      ]
     },
     "execution_count": 13,
     "metadata": {},
     "output_type": "execute_result"
    }
   ],
   "source": [
    "freq_features.head(3)"
   ]
  },
  {
   "cell_type": "code",
   "execution_count": 14,
   "id": "00e086c3",
   "metadata": {},
   "outputs": [],
   "source": [
    "# Create time-based features\n",
    "time_features = model_data.groupby('Patient-Uid').agg({'Date': ['min', 'max']}).reset_index()\n",
    "time_features.columns = ['Patient-Uid', 'Min_Date', 'Max_Date']\n",
    "time_features['Time_Diff'] = (pd.to_datetime(current_date) - time_features['Max_Date']).dt.days"
   ]
  },
  {
   "cell_type": "code",
   "execution_count": 15,
   "id": "28295182",
   "metadata": {},
   "outputs": [
    {
     "data": {
      "text/html": [
       "<div>\n",
       "<style scoped>\n",
       "    .dataframe tbody tr th:only-of-type {\n",
       "        vertical-align: middle;\n",
       "    }\n",
       "\n",
       "    .dataframe tbody tr th {\n",
       "        vertical-align: top;\n",
       "    }\n",
       "\n",
       "    .dataframe thead th {\n",
       "        text-align: right;\n",
       "    }\n",
       "</style>\n",
       "<table border=\"1\" class=\"dataframe\">\n",
       "  <thead>\n",
       "    <tr style=\"text-align: right;\">\n",
       "      <th></th>\n",
       "      <th>Patient-Uid</th>\n",
       "      <th>Min_Date</th>\n",
       "      <th>Max_Date</th>\n",
       "      <th>Time_Diff</th>\n",
       "    </tr>\n",
       "  </thead>\n",
       "  <tbody>\n",
       "    <tr>\n",
       "      <th>0</th>\n",
       "      <td>a0dc950b-1c7c-11ec-b6ec-16262ee38c7f</td>\n",
       "      <td>2019-05-25</td>\n",
       "      <td>2019-05-25</td>\n",
       "      <td>467</td>\n",
       "    </tr>\n",
       "    <tr>\n",
       "      <th>1</th>\n",
       "      <td>a0dc9543-1c7c-11ec-bb63-16262ee38c7f</td>\n",
       "      <td>2016-11-01</td>\n",
       "      <td>2016-11-01</td>\n",
       "      <td>1402</td>\n",
       "    </tr>\n",
       "    <tr>\n",
       "      <th>2</th>\n",
       "      <td>a0dc9c2b-1c7c-11ec-ac1e-16262ee38c7f</td>\n",
       "      <td>2019-06-18</td>\n",
       "      <td>2019-06-18</td>\n",
       "      <td>443</td>\n",
       "    </tr>\n",
       "  </tbody>\n",
       "</table>\n",
       "</div>"
      ],
      "text/plain": [
       "                            Patient-Uid   Min_Date   Max_Date  Time_Diff\n",
       "0  a0dc950b-1c7c-11ec-b6ec-16262ee38c7f 2019-05-25 2019-05-25        467\n",
       "1  a0dc9543-1c7c-11ec-bb63-16262ee38c7f 2016-11-01 2016-11-01       1402\n",
       "2  a0dc9c2b-1c7c-11ec-ac1e-16262ee38c7f 2019-06-18 2019-06-18        443"
      ]
     },
     "execution_count": 15,
     "metadata": {},
     "output_type": "execute_result"
    }
   ],
   "source": [
    "time_features.head(3)"
   ]
  },
  {
   "cell_type": "code",
   "execution_count": 16,
   "id": "2d7d73be",
   "metadata": {},
   "outputs": [],
   "source": [
    "# Merge the features with the target variable\n",
    "model_data = pd.merge(model_data, freq_features, on='Patient-Uid', how='left')\n",
    "model_data = pd.merge(model_data, time_features, on='Patient-Uid', how='left')\n"
   ]
  },
  {
   "cell_type": "code",
   "execution_count": 17,
   "id": "5891f7e2",
   "metadata": {},
   "outputs": [
    {
     "data": {
      "text/html": [
       "<div>\n",
       "<style scoped>\n",
       "    .dataframe tbody tr th:only-of-type {\n",
       "        vertical-align: middle;\n",
       "    }\n",
       "\n",
       "    .dataframe tbody tr th {\n",
       "        vertical-align: top;\n",
       "    }\n",
       "\n",
       "    .dataframe thead th {\n",
       "        text-align: right;\n",
       "    }\n",
       "</style>\n",
       "<table border=\"1\" class=\"dataframe\">\n",
       "  <thead>\n",
       "    <tr style=\"text-align: right;\">\n",
       "      <th></th>\n",
       "      <th>Patient-Uid</th>\n",
       "      <th>Date</th>\n",
       "      <th>Incident</th>\n",
       "      <th>Eligible</th>\n",
       "      <th>Freq</th>\n",
       "      <th>Min_Date</th>\n",
       "      <th>Max_Date</th>\n",
       "      <th>Time_Diff</th>\n",
       "    </tr>\n",
       "  </thead>\n",
       "  <tbody>\n",
       "    <tr>\n",
       "      <th>0</th>\n",
       "      <td>a0e92833-1c7c-11ec-bc7e-16262ee38c7f</td>\n",
       "      <td>2015-04-07</td>\n",
       "      <td>DRUG_TYPE_0</td>\n",
       "      <td>0</td>\n",
       "      <td>1</td>\n",
       "      <td>2015-04-07</td>\n",
       "      <td>2015-04-07</td>\n",
       "      <td>1976</td>\n",
       "    </tr>\n",
       "    <tr>\n",
       "      <th>1</th>\n",
       "      <td>a0e4492e-1c7c-11ec-bcbd-16262ee38c7f</td>\n",
       "      <td>2015-04-07</td>\n",
       "      <td>DRUG_TYPE_8</td>\n",
       "      <td>0</td>\n",
       "      <td>1</td>\n",
       "      <td>2015-04-07</td>\n",
       "      <td>2015-04-07</td>\n",
       "      <td>1976</td>\n",
       "    </tr>\n",
       "    <tr>\n",
       "      <th>2</th>\n",
       "      <td>a0df8c90-1c7c-11ec-b306-16262ee38c7f</td>\n",
       "      <td>2015-04-09</td>\n",
       "      <td>DRUG_TYPE_1</td>\n",
       "      <td>0</td>\n",
       "      <td>1</td>\n",
       "      <td>2015-04-09</td>\n",
       "      <td>2015-04-09</td>\n",
       "      <td>1974</td>\n",
       "    </tr>\n",
       "    <tr>\n",
       "      <th>3</th>\n",
       "      <td>a0eba357-1c7c-11ec-9694-16262ee38c7f</td>\n",
       "      <td>2015-04-10</td>\n",
       "      <td>DRUG_TYPE_1</td>\n",
       "      <td>0</td>\n",
       "      <td>2</td>\n",
       "      <td>2015-04-10</td>\n",
       "      <td>2020-08-20</td>\n",
       "      <td>14</td>\n",
       "    </tr>\n",
       "    <tr>\n",
       "      <th>4</th>\n",
       "      <td>a0e36140-1c7c-11ec-85b1-16262ee38c7f</td>\n",
       "      <td>2015-04-10</td>\n",
       "      <td>DRUG_TYPE_2</td>\n",
       "      <td>0</td>\n",
       "      <td>1</td>\n",
       "      <td>2015-04-10</td>\n",
       "      <td>2015-04-10</td>\n",
       "      <td>1973</td>\n",
       "    </tr>\n",
       "    <tr>\n",
       "      <th>...</th>\n",
       "      <td>...</td>\n",
       "      <td>...</td>\n",
       "      <td>...</td>\n",
       "      <td>...</td>\n",
       "      <td>...</td>\n",
       "      <td>...</td>\n",
       "      <td>...</td>\n",
       "      <td>...</td>\n",
       "    </tr>\n",
       "    <tr>\n",
       "      <th>5777</th>\n",
       "      <td>a0edef0d-1c7c-11ec-9dec-16262ee38c7f</td>\n",
       "      <td>2020-09-03</td>\n",
       "      <td>TARGET DRUG</td>\n",
       "      <td>1</td>\n",
       "      <td>1</td>\n",
       "      <td>2020-09-03</td>\n",
       "      <td>2020-09-03</td>\n",
       "      <td>0</td>\n",
       "    </tr>\n",
       "    <tr>\n",
       "      <th>5778</th>\n",
       "      <td>a0f0b5fd-1c7c-11ec-8f5d-16262ee38c7f</td>\n",
       "      <td>2020-09-03</td>\n",
       "      <td>TARGET DRUG</td>\n",
       "      <td>1</td>\n",
       "      <td>1</td>\n",
       "      <td>2020-09-03</td>\n",
       "      <td>2020-09-03</td>\n",
       "      <td>0</td>\n",
       "    </tr>\n",
       "    <tr>\n",
       "      <th>5779</th>\n",
       "      <td>a0ec6b35-1c7c-11ec-9be6-16262ee38c7f</td>\n",
       "      <td>2020-09-03</td>\n",
       "      <td>TARGET DRUG</td>\n",
       "      <td>1</td>\n",
       "      <td>1</td>\n",
       "      <td>2020-09-03</td>\n",
       "      <td>2020-09-03</td>\n",
       "      <td>0</td>\n",
       "    </tr>\n",
       "    <tr>\n",
       "      <th>5780</th>\n",
       "      <td>a0edb933-1c7c-11ec-bee6-16262ee38c7f</td>\n",
       "      <td>2020-09-03</td>\n",
       "      <td>TARGET DRUG</td>\n",
       "      <td>1</td>\n",
       "      <td>1</td>\n",
       "      <td>2020-09-03</td>\n",
       "      <td>2020-09-03</td>\n",
       "      <td>0</td>\n",
       "    </tr>\n",
       "    <tr>\n",
       "      <th>5781</th>\n",
       "      <td>a0edd782-1c7c-11ec-bdcb-16262ee38c7f</td>\n",
       "      <td>2020-09-03</td>\n",
       "      <td>TARGET DRUG</td>\n",
       "      <td>1</td>\n",
       "      <td>1</td>\n",
       "      <td>2020-09-03</td>\n",
       "      <td>2020-09-03</td>\n",
       "      <td>0</td>\n",
       "    </tr>\n",
       "  </tbody>\n",
       "</table>\n",
       "<p>5782 rows × 8 columns</p>\n",
       "</div>"
      ],
      "text/plain": [
       "                               Patient-Uid       Date     Incident  Eligible  \\\n",
       "0     a0e92833-1c7c-11ec-bc7e-16262ee38c7f 2015-04-07  DRUG_TYPE_0         0   \n",
       "1     a0e4492e-1c7c-11ec-bcbd-16262ee38c7f 2015-04-07  DRUG_TYPE_8         0   \n",
       "2     a0df8c90-1c7c-11ec-b306-16262ee38c7f 2015-04-09  DRUG_TYPE_1         0   \n",
       "3     a0eba357-1c7c-11ec-9694-16262ee38c7f 2015-04-10  DRUG_TYPE_1         0   \n",
       "4     a0e36140-1c7c-11ec-85b1-16262ee38c7f 2015-04-10  DRUG_TYPE_2         0   \n",
       "...                                    ...        ...          ...       ...   \n",
       "5777  a0edef0d-1c7c-11ec-9dec-16262ee38c7f 2020-09-03  TARGET DRUG         1   \n",
       "5778  a0f0b5fd-1c7c-11ec-8f5d-16262ee38c7f 2020-09-03  TARGET DRUG         1   \n",
       "5779  a0ec6b35-1c7c-11ec-9be6-16262ee38c7f 2020-09-03  TARGET DRUG         1   \n",
       "5780  a0edb933-1c7c-11ec-bee6-16262ee38c7f 2020-09-03  TARGET DRUG         1   \n",
       "5781  a0edd782-1c7c-11ec-bdcb-16262ee38c7f 2020-09-03  TARGET DRUG         1   \n",
       "\n",
       "      Freq   Min_Date   Max_Date  Time_Diff  \n",
       "0        1 2015-04-07 2015-04-07       1976  \n",
       "1        1 2015-04-07 2015-04-07       1976  \n",
       "2        1 2015-04-09 2015-04-09       1974  \n",
       "3        2 2015-04-10 2020-08-20         14  \n",
       "4        1 2015-04-10 2015-04-10       1973  \n",
       "...    ...        ...        ...        ...  \n",
       "5777     1 2020-09-03 2020-09-03          0  \n",
       "5778     1 2020-09-03 2020-09-03          0  \n",
       "5779     1 2020-09-03 2020-09-03          0  \n",
       "5780     1 2020-09-03 2020-09-03          0  \n",
       "5781     1 2020-09-03 2020-09-03          0  \n",
       "\n",
       "[5782 rows x 8 columns]"
      ]
     },
     "execution_count": 17,
     "metadata": {},
     "output_type": "execute_result"
    }
   ],
   "source": [
    "model_data"
   ]
  },
  {
   "cell_type": "code",
   "execution_count": 18,
   "id": "f8c23709",
   "metadata": {},
   "outputs": [],
   "source": [
    "model_data.isnull().sum()\n",
    "model_data.fillna(0,inplace=True)"
   ]
  },
  {
   "cell_type": "markdown",
   "id": "c955bab8",
   "metadata": {},
   "source": [
    "# Data splitting"
   ]
  },
  {
   "cell_type": "code",
   "execution_count": 19,
   "id": "9dac27bf",
   "metadata": {},
   "outputs": [],
   "source": [
    "features = ['Freq', 'Time_Diff']\n",
    "target = 'Eligible'\n",
    "X=model_data[features]\n",
    "y=model_data[target]"
   ]
  },
  {
   "cell_type": "code",
   "execution_count": 20,
   "id": "93dca4ca",
   "metadata": {},
   "outputs": [
    {
     "data": {
      "text/plain": [
       "((5782, 2), (5782,))"
      ]
     },
     "execution_count": 20,
     "metadata": {},
     "output_type": "execute_result"
    }
   ],
   "source": [
    "X.shape,y.shape"
   ]
  },
  {
   "cell_type": "code",
   "execution_count": 21,
   "id": "031977d6",
   "metadata": {},
   "outputs": [],
   "source": [
    "from sklearn.model_selection import train_test_split\n",
    "from sklearn.metrics import f1_score\n",
    "from sklearn.ensemble import RandomForestClassifier\n",
    "from sklearn.linear_model import LogisticRegression\n",
    "from sklearn.metrics import classification_report\n",
    "\n",
    "from sklearn.neighbors import KNeighborsClassifier\n",
    "from sklearn.svm import SVC\n",
    "from sklearn.tree import DecisionTreeClassifier\n",
    "from sklearn.ensemble import RandomForestClassifier,GradientBoostingClassifier"
   ]
  },
  {
   "cell_type": "code",
   "execution_count": 22,
   "id": "9c2fc8c1",
   "metadata": {},
   "outputs": [],
   "source": [
    "X_train, X_test, y_train, y_test = train_test_split(X,y,test_size=0.2,random_state=42)"
   ]
  },
  {
   "cell_type": "code",
   "execution_count": null,
   "id": "4fdd8a86",
   "metadata": {},
   "outputs": [],
   "source": []
  },
  {
   "cell_type": "markdown",
   "id": "292f175b",
   "metadata": {},
   "source": [
    "# Model Building"
   ]
  },
  {
   "cell_type": "code",
   "execution_count": 23,
   "id": "38f0ffdb",
   "metadata": {},
   "outputs": [
    {
     "name": "stdout",
     "output_type": "stream",
     "text": [
      "F1 score: 0.939\n"
     ]
    }
   ],
   "source": [
    "#  random forest classifier\n",
    "rf = RandomForestClassifier(n_estimators=100, random_state=42)\n",
    "rf.fit(X_train,y_train)\n",
    "\n",
    "# Make predictions on the validation set\n",
    "y_pred = rf.predict(X_test)\n",
    "f1 = f1_score(y_test,y_pred)\n",
    "\n",
    "print(f\"F1 score: {f1:.3f}\")"
   ]
  },
  {
   "cell_type": "code",
   "execution_count": 24,
   "id": "4792a561",
   "metadata": {},
   "outputs": [
    {
     "name": "stdout",
     "output_type": "stream",
     "text": [
      "F1 score: 0.935\n"
     ]
    }
   ],
   "source": [
    "# logistic regression model\n",
    "model = LogisticRegression()\n",
    "model.fit(X_train, y_train)\n",
    "\n",
    "# Make predictions on the validation set\n",
    "y_pred_lg = model.predict(X_test)\n",
    "f1=f1_score(y_test,y_pred_lg)\n",
    "\n",
    "print(f\"F1 score: {f1:.3f}\")"
   ]
  },
  {
   "cell_type": "code",
   "execution_count": 25,
   "id": "081a62fb",
   "metadata": {},
   "outputs": [
    {
     "name": "stdout",
     "output_type": "stream",
     "text": [
      "F1 score: 0.941\n"
     ]
    }
   ],
   "source": [
    "# Gradient Boosting model\n",
    "GB=GradientBoostingClassifier()\n",
    "GB.fit(X_train,y_train)\n",
    "\n",
    "# Make predictions on the validation set\n",
    "y_pred_gb=GB.predict(X_test)\n",
    "f1=f1_score(y_test,y_pred_gb)\n",
    "print(f\"F1 score: {f1:.3f}\")"
   ]
  },
  {
   "cell_type": "code",
   "execution_count": 26,
   "id": "f577e8c4",
   "metadata": {},
   "outputs": [
    {
     "name": "stdout",
     "output_type": "stream",
     "text": [
      "F1 score: 0.913\n"
     ]
    }
   ],
   "source": [
    "# KNN model\n",
    "knn = KNeighborsClassifier(4)\n",
    "knn.fit(X_train,y_train)\n",
    "\n",
    "# Make predictions on the validation set\n",
    "y_pred_knn=knn.predict(X_test)\n",
    "f1=f1_score(y_test,y_pred_knn)\n",
    "print(f\"F1 score: {f1:.3f}\")"
   ]
  },
  {
   "cell_type": "markdown",
   "id": "2ac46233",
   "metadata": {},
   "source": [
    "**Hyperparameter tuning for Gradient Boosting model**"
   ]
  },
  {
   "cell_type": "code",
   "execution_count": 27,
   "id": "108fbb6d",
   "metadata": {},
   "outputs": [
    {
     "name": "stdout",
     "output_type": "stream",
     "text": [
      "Best Hyperparameters: {'learning_rate': 0.01, 'max_depth': 3, 'n_estimators': 100}\n",
      "F1 Score: 0.9275603663613656\n"
     ]
    }
   ],
   "source": [
    "from sklearn.model_selection import GridSearchCV\n",
    "from sklearn.metrics import make_scorer, f1_score\n",
    "\n",
    "# Create the Gradient Boosting Classifier\n",
    "gb_classifier = GradientBoostingClassifier(random_state=42)\n",
    "\n",
    "# Define the hyperparameter grid for grid search\n",
    "param_grid = {\n",
    "    'n_estimators': [100, 200, 300],\n",
    "    'learning_rate': [0.1, 0.01, 0.001],\n",
    "    'max_depth': [3, 5, 7]\n",
    "}\n",
    "\n",
    "# Define the evaluation metric\n",
    "scorer = make_scorer(f1_score)\n",
    "\n",
    "# Perform grid search with cross-validation\n",
    "grid_search = GridSearchCV(estimator=gb_classifier, param_grid=param_grid, scoring=scorer, cv=5)\n",
    "grid_search.fit(X_train, y_train)\n",
    "\n",
    "# Get the best hyperparameters and model\n",
    "best_params = grid_search.best_params_\n",
    "best_model = grid_search.best_estimator_\n",
    "\n",
    "# Evaluate the best model on the test set\n",
    "y_pred = best_model.predict(X_test)\n",
    "f1 = f1_score(y_test, y_pred)\n",
    "\n",
    "# Print the best hyperparameters and f1 score\n",
    "print(\"Best Hyperparameters:\", best_params)\n",
    "print(\"F1 Score:\", f1)"
   ]
  },
  {
   "cell_type": "markdown",
   "id": "43b0a157",
   "metadata": {},
   "source": [
    "**Final model**"
   ]
  },
  {
   "cell_type": "code",
   "execution_count": null,
   "id": "6eb7592d",
   "metadata": {},
   "outputs": [],
   "source": []
  },
  {
   "cell_type": "markdown",
   "id": "7b338780",
   "metadata": {},
   "source": [
    "# Prediction on Test data"
   ]
  },
  {
   "cell_type": "code",
   "execution_count": 27,
   "id": "7a020b34",
   "metadata": {},
   "outputs": [],
   "source": [
    "df1=pd.read_parquet(r\"C:\\Users\\Barry\\Desktop\\projects\\akaike assignment\\Structured_Data_Assignment\\Structured_Data_Assignment\\test.parquet\")"
   ]
  },
  {
   "cell_type": "code",
   "execution_count": 49,
   "id": "10b9dcd7",
   "metadata": {},
   "outputs": [],
   "source": [
    "test_data=df1[:100000]"
   ]
  },
  {
   "cell_type": "code",
   "execution_count": 50,
   "id": "0adcf029",
   "metadata": {},
   "outputs": [
    {
     "data": {
      "text/plain": [
       "(100000, 3)"
      ]
     },
     "execution_count": 50,
     "metadata": {},
     "output_type": "execute_result"
    }
   ],
   "source": [
    "test_data.shape"
   ]
  },
  {
   "cell_type": "code",
   "execution_count": 54,
   "id": "41903931",
   "metadata": {},
   "outputs": [
    {
     "data": {
      "text/html": [
       "<div>\n",
       "<style scoped>\n",
       "    .dataframe tbody tr th:only-of-type {\n",
       "        vertical-align: middle;\n",
       "    }\n",
       "\n",
       "    .dataframe tbody tr th {\n",
       "        vertical-align: top;\n",
       "    }\n",
       "\n",
       "    .dataframe thead th {\n",
       "        text-align: right;\n",
       "    }\n",
       "</style>\n",
       "<table border=\"1\" class=\"dataframe\">\n",
       "  <thead>\n",
       "    <tr style=\"text-align: right;\">\n",
       "      <th></th>\n",
       "      <th>Patient-Uid</th>\n",
       "      <th>Date</th>\n",
       "      <th>Incident</th>\n",
       "    </tr>\n",
       "  </thead>\n",
       "  <tbody>\n",
       "    <tr>\n",
       "      <th>0</th>\n",
       "      <td>a0f9e8a9-1c7c-11ec-8d25-16262ee38c7f</td>\n",
       "      <td>2016-12-08</td>\n",
       "      <td>SYMPTOM_TYPE_0</td>\n",
       "    </tr>\n",
       "    <tr>\n",
       "      <th>1</th>\n",
       "      <td>a0f9e8a9-1c7c-11ec-8d25-16262ee38c7f</td>\n",
       "      <td>2018-10-17</td>\n",
       "      <td>DRUG_TYPE_0</td>\n",
       "    </tr>\n",
       "    <tr>\n",
       "      <th>2</th>\n",
       "      <td>a0f9e8a9-1c7c-11ec-8d25-16262ee38c7f</td>\n",
       "      <td>2017-12-01</td>\n",
       "      <td>DRUG_TYPE_2</td>\n",
       "    </tr>\n",
       "    <tr>\n",
       "      <th>3</th>\n",
       "      <td>a0f9e8a9-1c7c-11ec-8d25-16262ee38c7f</td>\n",
       "      <td>2018-12-05</td>\n",
       "      <td>DRUG_TYPE_1</td>\n",
       "    </tr>\n",
       "    <tr>\n",
       "      <th>4</th>\n",
       "      <td>a0f9e8a9-1c7c-11ec-8d25-16262ee38c7f</td>\n",
       "      <td>2017-11-04</td>\n",
       "      <td>SYMPTOM_TYPE_0</td>\n",
       "    </tr>\n",
       "  </tbody>\n",
       "</table>\n",
       "</div>"
      ],
      "text/plain": [
       "                            Patient-Uid       Date        Incident\n",
       "0  a0f9e8a9-1c7c-11ec-8d25-16262ee38c7f 2016-12-08  SYMPTOM_TYPE_0\n",
       "1  a0f9e8a9-1c7c-11ec-8d25-16262ee38c7f 2018-10-17     DRUG_TYPE_0\n",
       "2  a0f9e8a9-1c7c-11ec-8d25-16262ee38c7f 2017-12-01     DRUG_TYPE_2\n",
       "3  a0f9e8a9-1c7c-11ec-8d25-16262ee38c7f 2018-12-05     DRUG_TYPE_1\n",
       "4  a0f9e8a9-1c7c-11ec-8d25-16262ee38c7f 2017-11-04  SYMPTOM_TYPE_0"
      ]
     },
     "execution_count": 54,
     "metadata": {},
     "output_type": "execute_result"
    }
   ],
   "source": [
    "test_data.head()"
   ]
  },
  {
   "cell_type": "code",
   "execution_count": 55,
   "id": "e6ed991e",
   "metadata": {},
   "outputs": [],
   "source": [
    "current_date_1=df1['Date'].max()"
   ]
  },
  {
   "cell_type": "code",
   "execution_count": 56,
   "id": "78630a83",
   "metadata": {},
   "outputs": [],
   "source": [
    "# Create the features\n",
    "test_freq_features = test_data.groupby('Patient-Uid').agg({'Incident': 'count'}).reset_index()\n",
    "test_freq_features.columns = ['Patient-Uid', 'Freq']\n",
    "\n",
    "test_time_features = test_data.groupby('Patient-Uid').agg({'Date': ['min', 'max']}).reset_index()\n",
    "test_time_features.columns = ['Patient-Uid', 'Min_Date', 'Max_Date']\n",
    "test_time_features['Time_Diff'] = (pd.to_datetime('2020-08-04') - test_time_features['Max_Date']).dt.days\n",
    "\n",
    "# Merge the features\n",
    "test_data = pd.merge(test_data, test_freq_features, on='Patient-Uid', how='left')\n",
    "test_data = pd.merge(test_data, test_time_features, on='Patient-Uid', how='left')\n",
    "\n",
    "# Fill missing values with 0\n",
    "test_data.fillna(0, inplace=True)\n"
   ]
  },
  {
   "cell_type": "code",
   "execution_count": 57,
   "id": "44ca547e",
   "metadata": {},
   "outputs": [
    {
     "data": {
      "text/html": [
       "<div>\n",
       "<style scoped>\n",
       "    .dataframe tbody tr th:only-of-type {\n",
       "        vertical-align: middle;\n",
       "    }\n",
       "\n",
       "    .dataframe tbody tr th {\n",
       "        vertical-align: top;\n",
       "    }\n",
       "\n",
       "    .dataframe thead th {\n",
       "        text-align: right;\n",
       "    }\n",
       "</style>\n",
       "<table border=\"1\" class=\"dataframe\">\n",
       "  <thead>\n",
       "    <tr style=\"text-align: right;\">\n",
       "      <th></th>\n",
       "      <th>Patient-Uid</th>\n",
       "      <th>Date</th>\n",
       "      <th>Incident</th>\n",
       "      <th>Freq</th>\n",
       "      <th>Min_Date</th>\n",
       "      <th>Max_Date</th>\n",
       "      <th>Time_Diff</th>\n",
       "    </tr>\n",
       "  </thead>\n",
       "  <tbody>\n",
       "    <tr>\n",
       "      <th>0</th>\n",
       "      <td>a0f9e8a9-1c7c-11ec-8d25-16262ee38c7f</td>\n",
       "      <td>2016-12-08</td>\n",
       "      <td>SYMPTOM_TYPE_0</td>\n",
       "      <td>55</td>\n",
       "      <td>2016-06-23</td>\n",
       "      <td>2019-05-21</td>\n",
       "      <td>441</td>\n",
       "    </tr>\n",
       "    <tr>\n",
       "      <th>1</th>\n",
       "      <td>a0f9e8a9-1c7c-11ec-8d25-16262ee38c7f</td>\n",
       "      <td>2018-10-17</td>\n",
       "      <td>DRUG_TYPE_0</td>\n",
       "      <td>55</td>\n",
       "      <td>2016-06-23</td>\n",
       "      <td>2019-05-21</td>\n",
       "      <td>441</td>\n",
       "    </tr>\n",
       "    <tr>\n",
       "      <th>2</th>\n",
       "      <td>a0f9e8a9-1c7c-11ec-8d25-16262ee38c7f</td>\n",
       "      <td>2017-12-01</td>\n",
       "      <td>DRUG_TYPE_2</td>\n",
       "      <td>55</td>\n",
       "      <td>2016-06-23</td>\n",
       "      <td>2019-05-21</td>\n",
       "      <td>441</td>\n",
       "    </tr>\n",
       "    <tr>\n",
       "      <th>3</th>\n",
       "      <td>a0f9e8a9-1c7c-11ec-8d25-16262ee38c7f</td>\n",
       "      <td>2018-12-05</td>\n",
       "      <td>DRUG_TYPE_1</td>\n",
       "      <td>55</td>\n",
       "      <td>2016-06-23</td>\n",
       "      <td>2019-05-21</td>\n",
       "      <td>441</td>\n",
       "    </tr>\n",
       "    <tr>\n",
       "      <th>4</th>\n",
       "      <td>a0f9e8a9-1c7c-11ec-8d25-16262ee38c7f</td>\n",
       "      <td>2017-11-04</td>\n",
       "      <td>SYMPTOM_TYPE_0</td>\n",
       "      <td>55</td>\n",
       "      <td>2016-06-23</td>\n",
       "      <td>2019-05-21</td>\n",
       "      <td>441</td>\n",
       "    </tr>\n",
       "    <tr>\n",
       "      <th>...</th>\n",
       "      <td>...</td>\n",
       "      <td>...</td>\n",
       "      <td>...</td>\n",
       "      <td>...</td>\n",
       "      <td>...</td>\n",
       "      <td>...</td>\n",
       "      <td>...</td>\n",
       "    </tr>\n",
       "    <tr>\n",
       "      <th>99995</th>\n",
       "      <td>a0faa319-1c7c-11ec-bd56-16262ee38c7f</td>\n",
       "      <td>2016-09-13</td>\n",
       "      <td>DRUG_TYPE_1</td>\n",
       "      <td>21</td>\n",
       "      <td>2015-09-26</td>\n",
       "      <td>2019-07-13</td>\n",
       "      <td>388</td>\n",
       "    </tr>\n",
       "    <tr>\n",
       "      <th>99996</th>\n",
       "      <td>a0faa319-1c7c-11ec-bd56-16262ee38c7f</td>\n",
       "      <td>2016-05-06</td>\n",
       "      <td>DRUG_TYPE_8</td>\n",
       "      <td>21</td>\n",
       "      <td>2015-09-26</td>\n",
       "      <td>2019-07-13</td>\n",
       "      <td>388</td>\n",
       "    </tr>\n",
       "    <tr>\n",
       "      <th>99997</th>\n",
       "      <td>a0faa319-1c7c-11ec-bd56-16262ee38c7f</td>\n",
       "      <td>2015-09-26</td>\n",
       "      <td>DRUG_TYPE_1</td>\n",
       "      <td>21</td>\n",
       "      <td>2015-09-26</td>\n",
       "      <td>2019-07-13</td>\n",
       "      <td>388</td>\n",
       "    </tr>\n",
       "    <tr>\n",
       "      <th>99998</th>\n",
       "      <td>a0faa319-1c7c-11ec-bd56-16262ee38c7f</td>\n",
       "      <td>2017-03-02</td>\n",
       "      <td>DRUG_TYPE_8</td>\n",
       "      <td>21</td>\n",
       "      <td>2015-09-26</td>\n",
       "      <td>2019-07-13</td>\n",
       "      <td>388</td>\n",
       "    </tr>\n",
       "    <tr>\n",
       "      <th>99999</th>\n",
       "      <td>a0faa319-1c7c-11ec-bd56-16262ee38c7f</td>\n",
       "      <td>2016-02-09</td>\n",
       "      <td>DRUG_TYPE_1</td>\n",
       "      <td>21</td>\n",
       "      <td>2015-09-26</td>\n",
       "      <td>2019-07-13</td>\n",
       "      <td>388</td>\n",
       "    </tr>\n",
       "  </tbody>\n",
       "</table>\n",
       "<p>100000 rows × 7 columns</p>\n",
       "</div>"
      ],
      "text/plain": [
       "                                Patient-Uid       Date        Incident  Freq  \\\n",
       "0      a0f9e8a9-1c7c-11ec-8d25-16262ee38c7f 2016-12-08  SYMPTOM_TYPE_0    55   \n",
       "1      a0f9e8a9-1c7c-11ec-8d25-16262ee38c7f 2018-10-17     DRUG_TYPE_0    55   \n",
       "2      a0f9e8a9-1c7c-11ec-8d25-16262ee38c7f 2017-12-01     DRUG_TYPE_2    55   \n",
       "3      a0f9e8a9-1c7c-11ec-8d25-16262ee38c7f 2018-12-05     DRUG_TYPE_1    55   \n",
       "4      a0f9e8a9-1c7c-11ec-8d25-16262ee38c7f 2017-11-04  SYMPTOM_TYPE_0    55   \n",
       "...                                     ...        ...             ...   ...   \n",
       "99995  a0faa319-1c7c-11ec-bd56-16262ee38c7f 2016-09-13     DRUG_TYPE_1    21   \n",
       "99996  a0faa319-1c7c-11ec-bd56-16262ee38c7f 2016-05-06     DRUG_TYPE_8    21   \n",
       "99997  a0faa319-1c7c-11ec-bd56-16262ee38c7f 2015-09-26     DRUG_TYPE_1    21   \n",
       "99998  a0faa319-1c7c-11ec-bd56-16262ee38c7f 2017-03-02     DRUG_TYPE_8    21   \n",
       "99999  a0faa319-1c7c-11ec-bd56-16262ee38c7f 2016-02-09     DRUG_TYPE_1    21   \n",
       "\n",
       "        Min_Date   Max_Date  Time_Diff  \n",
       "0     2016-06-23 2019-05-21        441  \n",
       "1     2016-06-23 2019-05-21        441  \n",
       "2     2016-06-23 2019-05-21        441  \n",
       "3     2016-06-23 2019-05-21        441  \n",
       "4     2016-06-23 2019-05-21        441  \n",
       "...          ...        ...        ...  \n",
       "99995 2015-09-26 2019-07-13        388  \n",
       "99996 2015-09-26 2019-07-13        388  \n",
       "99997 2015-09-26 2019-07-13        388  \n",
       "99998 2015-09-26 2019-07-13        388  \n",
       "99999 2015-09-26 2019-07-13        388  \n",
       "\n",
       "[100000 rows x 7 columns]"
      ]
     },
     "execution_count": 57,
     "metadata": {},
     "output_type": "execute_result"
    }
   ],
   "source": [
    "test_data"
   ]
  },
  {
   "cell_type": "code",
   "execution_count": 59,
   "id": "9f508857",
   "metadata": {},
   "outputs": [
    {
     "data": {
      "text/plain": [
       "(100000, 7)"
      ]
     },
     "execution_count": 59,
     "metadata": {},
     "output_type": "execute_result"
    }
   ],
   "source": [
    "test_data.shape"
   ]
  },
  {
   "cell_type": "code",
   "execution_count": 60,
   "id": "bfb50832",
   "metadata": {},
   "outputs": [],
   "source": [
    "# Make predictions on the test data\n",
    "test_data['label'] = rf.predict(test_data[features])"
   ]
  },
  {
   "cell_type": "code",
   "execution_count": 61,
   "id": "da066c1f",
   "metadata": {},
   "outputs": [],
   "source": [
    "# Save the predictions to a CSV file\n",
    "test_data[['Patient-Uid', 'label']].to_csv('final_submission.csv', index=False)"
   ]
  },
  {
   "cell_type": "code",
   "execution_count": null,
   "id": "58ba6808",
   "metadata": {},
   "outputs": [],
   "source": []
  },
  {
   "cell_type": "code",
   "execution_count": null,
   "id": "b1bd6219",
   "metadata": {},
   "outputs": [],
   "source": []
  },
  {
   "cell_type": "code",
   "execution_count": null,
   "id": "a66e41e6",
   "metadata": {},
   "outputs": [],
   "source": []
  },
  {
   "cell_type": "code",
   "execution_count": 88,
   "id": "d242e06d",
   "metadata": {},
   "outputs": [],
   "source": []
  },
  {
   "cell_type": "code",
   "execution_count": 89,
   "id": "12ec06dd",
   "metadata": {},
   "outputs": [],
   "source": []
  },
  {
   "cell_type": "code",
   "execution_count": null,
   "id": "167c8db9",
   "metadata": {},
   "outputs": [],
   "source": []
  }
 ],
 "metadata": {
  "kernelspec": {
   "display_name": "Python 3 (ipykernel)",
   "language": "python",
   "name": "python3"
  },
  "language_info": {
   "codemirror_mode": {
    "name": "ipython",
    "version": 3
   },
   "file_extension": ".py",
   "mimetype": "text/x-python",
   "name": "python",
   "nbconvert_exporter": "python",
   "pygments_lexer": "ipython3",
   "version": "3.9.16"
  }
 },
 "nbformat": 4,
 "nbformat_minor": 5
}
